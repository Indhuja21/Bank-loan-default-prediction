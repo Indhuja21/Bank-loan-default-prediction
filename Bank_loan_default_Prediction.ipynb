{
  "nbformat": 4,
  "nbformat_minor": 0,
  "metadata": {
    "colab": {
      "name": " Bank loan default Prediction",
      "provenance": [],
      "collapsed_sections": [],
      "authorship_tag": "ABX9TyPW5KU7wD7Nd/aufP1Q3GV5",
      "include_colab_link": true
    },
    "kernelspec": {
      "name": "python3",
      "display_name": "Python 3"
    },
    "language_info": {
      "name": "python"
    }
  },
  "cells": [
    {
      "cell_type": "markdown",
      "metadata": {
        "id": "view-in-github",
        "colab_type": "text"
      },
      "source": [
        "<a href=\"https://colab.research.google.com/github/Indhuja21/Bank-loan-default-prediction/blob/main/Bank_loan_default_Prediction.ipynb\" target=\"_parent\"><img src=\"https://colab.research.google.com/assets/colab-badge.svg\" alt=\"Open In Colab\"/></a>"
      ]
    },
    {
      "cell_type": "code",
      "metadata": {
        "id": "fkI7VNzbzwER"
      },
      "source": [
        "import pandas as pd\n",
        "import numpy as np\n",
        "import seaborn as sns\n",
        "import datetime\n",
        "import matplotlib.pyplot as plt\n",
        "%matplotlib inline\n",
        "from sklearn.preprocessing import LabelEncoder\n",
        "from datetime import datetime\n",
        "from sklearn.metrics import confusion_matrix, accuracy_score\n",
        "from sklearn.model_selection import train_test_split, cross_val_score\n",
        "from sklearn.neighbors import KNeighborsClassifier  \n",
        "from sklearn.svm import SVC"
      ],
      "execution_count": null,
      "outputs": []
    },
    {
      "cell_type": "code",
      "metadata": {
        "colab": {
          "base_uri": "https://localhost:8080/",
          "height": 215
        },
        "id": "jmgAewB7pzI8",
        "outputId": "ff63ac1e-d00d-4a31-e9a0-7f89acb9d5b4"
      },
      "source": [
        "train_dg= pd.read_csv(\"/content/train_demographics.csv\")\n",
        "train_dg.head(3)"
      ],
      "execution_count": null,
      "outputs": [
        {
          "output_type": "execute_result",
          "data": {
            "text/html": [
              "<div>\n",
              "<style scoped>\n",
              "    .dataframe tbody tr th:only-of-type {\n",
              "        vertical-align: middle;\n",
              "    }\n",
              "\n",
              "    .dataframe tbody tr th {\n",
              "        vertical-align: top;\n",
              "    }\n",
              "\n",
              "    .dataframe thead th {\n",
              "        text-align: right;\n",
              "    }\n",
              "</style>\n",
              "<table border=\"1\" class=\"dataframe\">\n",
              "  <thead>\n",
              "    <tr style=\"text-align: right;\">\n",
              "      <th></th>\n",
              "      <th>customerid</th>\n",
              "      <th>birthdate</th>\n",
              "      <th>bank_account_type</th>\n",
              "      <th>longitude_gps</th>\n",
              "      <th>latitude_gps</th>\n",
              "      <th>bank_name_clients</th>\n",
              "      <th>bank_branch_clients</th>\n",
              "      <th>employment_status_clients</th>\n",
              "      <th>level_of_education_clients</th>\n",
              "    </tr>\n",
              "  </thead>\n",
              "  <tbody>\n",
              "    <tr>\n",
              "      <th>0</th>\n",
              "      <td>8a858e135cb22031015cbafc76964ebd</td>\n",
              "      <td>10-10-1973</td>\n",
              "      <td>Savings</td>\n",
              "      <td>3.319219</td>\n",
              "      <td>6.528604</td>\n",
              "      <td>GT Bank</td>\n",
              "      <td>NaN</td>\n",
              "      <td>NaN</td>\n",
              "      <td>NaN</td>\n",
              "    </tr>\n",
              "    <tr>\n",
              "      <th>1</th>\n",
              "      <td>8a858e275c7ea5ec015c82482d7c3996</td>\n",
              "      <td>21-01-1986</td>\n",
              "      <td>Savings</td>\n",
              "      <td>3.325598</td>\n",
              "      <td>7.119403</td>\n",
              "      <td>Sterling Bank</td>\n",
              "      <td>NaN</td>\n",
              "      <td>Permanent</td>\n",
              "      <td>NaN</td>\n",
              "    </tr>\n",
              "    <tr>\n",
              "      <th>2</th>\n",
              "      <td>8a858e5b5bd99460015bdc95cd485634</td>\n",
              "      <td>01-04-1987</td>\n",
              "      <td>Savings</td>\n",
              "      <td>5.746100</td>\n",
              "      <td>5.563174</td>\n",
              "      <td>Fidelity Bank</td>\n",
              "      <td>NaN</td>\n",
              "      <td>NaN</td>\n",
              "      <td>NaN</td>\n",
              "    </tr>\n",
              "  </tbody>\n",
              "</table>\n",
              "</div>"
            ],
            "text/plain": [
              "                         customerid  ... level_of_education_clients\n",
              "0  8a858e135cb22031015cbafc76964ebd  ...                        NaN\n",
              "1  8a858e275c7ea5ec015c82482d7c3996  ...                        NaN\n",
              "2  8a858e5b5bd99460015bdc95cd485634  ...                        NaN\n",
              "\n",
              "[3 rows x 9 columns]"
            ]
          },
          "metadata": {},
          "execution_count": 4
        }
      ]
    },
    {
      "cell_type": "code",
      "metadata": {
        "colab": {
          "base_uri": "https://localhost:8080/",
          "height": 144
        },
        "id": "Abn94_FQqEVU",
        "outputId": "08d574aa-a5fb-410d-f515-d4ab00b875c5"
      },
      "source": [
        "train_pf= pd.read_csv(\"/content/train_perf.csv\")\n",
        "train_pf.head(3)"
      ],
      "execution_count": null,
      "outputs": [
        {
          "output_type": "execute_result",
          "data": {
            "text/html": [
              "<div>\n",
              "<style scoped>\n",
              "    .dataframe tbody tr th:only-of-type {\n",
              "        vertical-align: middle;\n",
              "    }\n",
              "\n",
              "    .dataframe tbody tr th {\n",
              "        vertical-align: top;\n",
              "    }\n",
              "\n",
              "    .dataframe thead th {\n",
              "        text-align: right;\n",
              "    }\n",
              "</style>\n",
              "<table border=\"1\" class=\"dataframe\">\n",
              "  <thead>\n",
              "    <tr style=\"text-align: right;\">\n",
              "      <th></th>\n",
              "      <th>customerid</th>\n",
              "      <th>systemloanid</th>\n",
              "      <th>loannumber</th>\n",
              "      <th>approveddate</th>\n",
              "      <th>creationdate</th>\n",
              "      <th>loanamount</th>\n",
              "      <th>totaldue</th>\n",
              "      <th>termdays</th>\n",
              "      <th>referredby</th>\n",
              "      <th>good_bad_flag</th>\n",
              "    </tr>\n",
              "  </thead>\n",
              "  <tbody>\n",
              "    <tr>\n",
              "      <th>0</th>\n",
              "      <td>8a2a81a74ce8c05d014cfb32a0da1049</td>\n",
              "      <td>301994762</td>\n",
              "      <td>12</td>\n",
              "      <td>25-07-2017 08:22</td>\n",
              "      <td>25-07-2017 07:22</td>\n",
              "      <td>30000</td>\n",
              "      <td>34500.0</td>\n",
              "      <td>30</td>\n",
              "      <td>NaN</td>\n",
              "      <td>Good</td>\n",
              "    </tr>\n",
              "    <tr>\n",
              "      <th>1</th>\n",
              "      <td>8a85886e54beabf90154c0a29ae757c0</td>\n",
              "      <td>301965204</td>\n",
              "      <td>2</td>\n",
              "      <td>05-07-2017 17:04</td>\n",
              "      <td>05-07-2017 16:04</td>\n",
              "      <td>15000</td>\n",
              "      <td>17250.0</td>\n",
              "      <td>30</td>\n",
              "      <td>NaN</td>\n",
              "      <td>Good</td>\n",
              "    </tr>\n",
              "    <tr>\n",
              "      <th>2</th>\n",
              "      <td>8a8588f35438fe12015444567666018e</td>\n",
              "      <td>301966580</td>\n",
              "      <td>7</td>\n",
              "      <td>06-07-2017 14:52</td>\n",
              "      <td>06-07-2017 13:52</td>\n",
              "      <td>20000</td>\n",
              "      <td>22250.0</td>\n",
              "      <td>15</td>\n",
              "      <td>NaN</td>\n",
              "      <td>Good</td>\n",
              "    </tr>\n",
              "  </tbody>\n",
              "</table>\n",
              "</div>"
            ],
            "text/plain": [
              "                         customerid  systemloanid  ...  referredby good_bad_flag\n",
              "0  8a2a81a74ce8c05d014cfb32a0da1049     301994762  ...         NaN          Good\n",
              "1  8a85886e54beabf90154c0a29ae757c0     301965204  ...         NaN          Good\n",
              "2  8a8588f35438fe12015444567666018e     301966580  ...         NaN          Good\n",
              "\n",
              "[3 rows x 10 columns]"
            ]
          },
          "metadata": {},
          "execution_count": 5
        }
      ]
    },
    {
      "cell_type": "code",
      "metadata": {
        "colab": {
          "base_uri": "https://localhost:8080/",
          "height": 215
        },
        "id": "B7oqUeWIri07",
        "outputId": "0d5e7cf0-fcfb-4e6a-80ec-3824662c6e42"
      },
      "source": [
        "train_pv= pd.read_csv(\"/content/train_prev_loans.csv\")\n",
        "train_pv.head(3)"
      ],
      "execution_count": null,
      "outputs": [
        {
          "output_type": "execute_result",
          "data": {
            "text/html": [
              "<div>\n",
              "<style scoped>\n",
              "    .dataframe tbody tr th:only-of-type {\n",
              "        vertical-align: middle;\n",
              "    }\n",
              "\n",
              "    .dataframe tbody tr th {\n",
              "        vertical-align: top;\n",
              "    }\n",
              "\n",
              "    .dataframe thead th {\n",
              "        text-align: right;\n",
              "    }\n",
              "</style>\n",
              "<table border=\"1\" class=\"dataframe\">\n",
              "  <thead>\n",
              "    <tr style=\"text-align: right;\">\n",
              "      <th></th>\n",
              "      <th>customerid</th>\n",
              "      <th>systemloanid</th>\n",
              "      <th>loannumber</th>\n",
              "      <th>approveddate</th>\n",
              "      <th>creationdate</th>\n",
              "      <th>loanamount</th>\n",
              "      <th>totaldue</th>\n",
              "      <th>termdays</th>\n",
              "      <th>closeddate</th>\n",
              "      <th>referredby</th>\n",
              "      <th>firstduedate</th>\n",
              "      <th>firstrepaiddate</th>\n",
              "    </tr>\n",
              "  </thead>\n",
              "  <tbody>\n",
              "    <tr>\n",
              "      <th>0</th>\n",
              "      <td>8a2a81a74ce8c05d014cfb32a0da1049</td>\n",
              "      <td>301682320</td>\n",
              "      <td>2</td>\n",
              "      <td>15-08-2016 18:22</td>\n",
              "      <td>15-08-2016 17:22</td>\n",
              "      <td>10000</td>\n",
              "      <td>13000.0</td>\n",
              "      <td>30</td>\n",
              "      <td>01-09-2016 16:06</td>\n",
              "      <td>NaN</td>\n",
              "      <td>14-09-2016</td>\n",
              "      <td>01-09-2016 15:51</td>\n",
              "    </tr>\n",
              "    <tr>\n",
              "      <th>1</th>\n",
              "      <td>8a2a81a74ce8c05d014cfb32a0da1049</td>\n",
              "      <td>301883808</td>\n",
              "      <td>9</td>\n",
              "      <td>28-04-2017 18:39</td>\n",
              "      <td>28-04-2017 17:38</td>\n",
              "      <td>10000</td>\n",
              "      <td>13000.0</td>\n",
              "      <td>30</td>\n",
              "      <td>28-05-2017 14:44</td>\n",
              "      <td>NaN</td>\n",
              "      <td>30-05-2017</td>\n",
              "      <td>26-05-2017 00:00</td>\n",
              "    </tr>\n",
              "    <tr>\n",
              "      <th>2</th>\n",
              "      <td>8a2a81a74ce8c05d014cfb32a0da1049</td>\n",
              "      <td>301831714</td>\n",
              "      <td>8</td>\n",
              "      <td>05-03-2017 10:56</td>\n",
              "      <td>05-03-2017 09:56</td>\n",
              "      <td>20000</td>\n",
              "      <td>23800.0</td>\n",
              "      <td>30</td>\n",
              "      <td>26-04-2017 22:18</td>\n",
              "      <td>NaN</td>\n",
              "      <td>04-04-2017</td>\n",
              "      <td>26-04-2017 22:03</td>\n",
              "    </tr>\n",
              "  </tbody>\n",
              "</table>\n",
              "</div>"
            ],
            "text/plain": [
              "                         customerid  ...   firstrepaiddate\n",
              "0  8a2a81a74ce8c05d014cfb32a0da1049  ...  01-09-2016 15:51\n",
              "1  8a2a81a74ce8c05d014cfb32a0da1049  ...  26-05-2017 00:00\n",
              "2  8a2a81a74ce8c05d014cfb32a0da1049  ...  26-04-2017 22:03\n",
              "\n",
              "[3 rows x 12 columns]"
            ]
          },
          "metadata": {},
          "execution_count": 52
        }
      ]
    },
    {
      "cell_type": "code",
      "metadata": {
        "colab": {
          "base_uri": "https://localhost:8080/",
          "height": 215
        },
        "id": "pXbJElNEroqb",
        "outputId": "3f7e20e0-2352-4fb8-dc46-d592344b3edf"
      },
      "source": [
        "test_dg= pd.read_csv(\"/content/test_demographic.csv\")\n",
        "test_dg.head(3)"
      ],
      "execution_count": null,
      "outputs": [
        {
          "output_type": "execute_result",
          "data": {
            "text/html": [
              "<div>\n",
              "<style scoped>\n",
              "    .dataframe tbody tr th:only-of-type {\n",
              "        vertical-align: middle;\n",
              "    }\n",
              "\n",
              "    .dataframe tbody tr th {\n",
              "        vertical-align: top;\n",
              "    }\n",
              "\n",
              "    .dataframe thead th {\n",
              "        text-align: right;\n",
              "    }\n",
              "</style>\n",
              "<table border=\"1\" class=\"dataframe\">\n",
              "  <thead>\n",
              "    <tr style=\"text-align: right;\">\n",
              "      <th></th>\n",
              "      <th>customerid</th>\n",
              "      <th>birthdate</th>\n",
              "      <th>bank_account_type</th>\n",
              "      <th>longitude_gps</th>\n",
              "      <th>latitude_gps</th>\n",
              "      <th>bank_name_clients</th>\n",
              "      <th>bank_branch_clients</th>\n",
              "      <th>employment_status_clients</th>\n",
              "      <th>level_of_education_clients</th>\n",
              "    </tr>\n",
              "  </thead>\n",
              "  <tbody>\n",
              "    <tr>\n",
              "      <th>0</th>\n",
              "      <td>8a858f305c8dd672015c93b1db645db4</td>\n",
              "      <td>28-08-1976</td>\n",
              "      <td>Savings</td>\n",
              "      <td>5.296628</td>\n",
              "      <td>7.593965</td>\n",
              "      <td>Heritage Bank</td>\n",
              "      <td>NaN</td>\n",
              "      <td>Permanent</td>\n",
              "      <td>NaN</td>\n",
              "    </tr>\n",
              "    <tr>\n",
              "      <th>1</th>\n",
              "      <td>8a858f085a477386015a47fb049e49ca</td>\n",
              "      <td>23-06-1978</td>\n",
              "      <td>Savings</td>\n",
              "      <td>3.294513</td>\n",
              "      <td>6.596602</td>\n",
              "      <td>UBA</td>\n",
              "      <td>NaN</td>\n",
              "      <td>Permanent</td>\n",
              "      <td>NaN</td>\n",
              "    </tr>\n",
              "    <tr>\n",
              "      <th>2</th>\n",
              "      <td>8a858e6f5cd5e874015cd6f5634c39ad</td>\n",
              "      <td>04-04-1984</td>\n",
              "      <td>Savings</td>\n",
              "      <td>8.501912</td>\n",
              "      <td>7.729364</td>\n",
              "      <td>First Bank</td>\n",
              "      <td>NaN</td>\n",
              "      <td>Permanent</td>\n",
              "      <td>NaN</td>\n",
              "    </tr>\n",
              "  </tbody>\n",
              "</table>\n",
              "</div>"
            ],
            "text/plain": [
              "                         customerid  ... level_of_education_clients\n",
              "0  8a858f305c8dd672015c93b1db645db4  ...                        NaN\n",
              "1  8a858f085a477386015a47fb049e49ca  ...                        NaN\n",
              "2  8a858e6f5cd5e874015cd6f5634c39ad  ...                        NaN\n",
              "\n",
              "[3 rows x 9 columns]"
            ]
          },
          "metadata": {},
          "execution_count": 53
        }
      ]
    },
    {
      "cell_type": "code",
      "metadata": {
        "colab": {
          "base_uri": "https://localhost:8080/",
          "height": 215
        },
        "id": "ED3z62Xnrv4G",
        "outputId": "a43f6633-80b6-4bab-9e09-fdff3345f0b6"
      },
      "source": [
        "test_pv= pd.read_csv(\"/content/test_prev_loans.csv\")\n",
        "test_pv.head(3)"
      ],
      "execution_count": null,
      "outputs": [
        {
          "output_type": "execute_result",
          "data": {
            "text/html": [
              "<div>\n",
              "<style scoped>\n",
              "    .dataframe tbody tr th:only-of-type {\n",
              "        vertical-align: middle;\n",
              "    }\n",
              "\n",
              "    .dataframe tbody tr th {\n",
              "        vertical-align: top;\n",
              "    }\n",
              "\n",
              "    .dataframe thead th {\n",
              "        text-align: right;\n",
              "    }\n",
              "</style>\n",
              "<table border=\"1\" class=\"dataframe\">\n",
              "  <thead>\n",
              "    <tr style=\"text-align: right;\">\n",
              "      <th></th>\n",
              "      <th>customerid</th>\n",
              "      <th>systemloanid</th>\n",
              "      <th>loannumber</th>\n",
              "      <th>approveddate</th>\n",
              "      <th>creationdate</th>\n",
              "      <th>loanamount</th>\n",
              "      <th>totaldue</th>\n",
              "      <th>termdays</th>\n",
              "      <th>closeddate</th>\n",
              "      <th>referredby</th>\n",
              "      <th>firstduedate</th>\n",
              "      <th>firstrepaiddate</th>\n",
              "    </tr>\n",
              "  </thead>\n",
              "  <tbody>\n",
              "    <tr>\n",
              "      <th>0</th>\n",
              "      <td>8a2a81a74ce8c05d014cfb32a0da1049</td>\n",
              "      <td>301682320</td>\n",
              "      <td>2</td>\n",
              "      <td>15-08-2016 18:22</td>\n",
              "      <td>15-08-2016 17:22</td>\n",
              "      <td>10000</td>\n",
              "      <td>13000.0</td>\n",
              "      <td>30</td>\n",
              "      <td>01-09-2016 16:06</td>\n",
              "      <td>NaN</td>\n",
              "      <td>14-09-2016</td>\n",
              "      <td>01-09-2016 15:51</td>\n",
              "    </tr>\n",
              "    <tr>\n",
              "      <th>1</th>\n",
              "      <td>8a2a81a74ce8c05d014cfb32a0da1049</td>\n",
              "      <td>301883808</td>\n",
              "      <td>9</td>\n",
              "      <td>28-04-2017 18:39</td>\n",
              "      <td>28-04-2017 17:38</td>\n",
              "      <td>10000</td>\n",
              "      <td>13000.0</td>\n",
              "      <td>30</td>\n",
              "      <td>28-05-2017 14:44</td>\n",
              "      <td>NaN</td>\n",
              "      <td>30-05-2017</td>\n",
              "      <td>26-05-2017 00:00</td>\n",
              "    </tr>\n",
              "    <tr>\n",
              "      <th>2</th>\n",
              "      <td>8a2a81a74ce8c05d014cfb32a0da1049</td>\n",
              "      <td>301831714</td>\n",
              "      <td>8</td>\n",
              "      <td>05-03-2017 10:56</td>\n",
              "      <td>05-03-2017 09:56</td>\n",
              "      <td>20000</td>\n",
              "      <td>23800.0</td>\n",
              "      <td>30</td>\n",
              "      <td>26-04-2017 22:18</td>\n",
              "      <td>NaN</td>\n",
              "      <td>04-04-2017</td>\n",
              "      <td>26-04-2017 22:03</td>\n",
              "    </tr>\n",
              "  </tbody>\n",
              "</table>\n",
              "</div>"
            ],
            "text/plain": [
              "                         customerid  ...   firstrepaiddate\n",
              "0  8a2a81a74ce8c05d014cfb32a0da1049  ...  01-09-2016 15:51\n",
              "1  8a2a81a74ce8c05d014cfb32a0da1049  ...  26-05-2017 00:00\n",
              "2  8a2a81a74ce8c05d014cfb32a0da1049  ...  26-04-2017 22:03\n",
              "\n",
              "[3 rows x 12 columns]"
            ]
          },
          "metadata": {},
          "execution_count": 54
        }
      ]
    },
    {
      "cell_type": "code",
      "metadata": {
        "colab": {
          "base_uri": "https://localhost:8080/",
          "height": 144
        },
        "id": "MUYNvR7lsbvz",
        "outputId": "493b3c75-5023-4e0a-d03c-bc0149764051"
      },
      "source": [
        "test_pf= pd.read_csv(\"/content/test_perfs.csv\")\n",
        "test_pf.head(3)"
      ],
      "execution_count": null,
      "outputs": [
        {
          "output_type": "execute_result",
          "data": {
            "text/html": [
              "<div>\n",
              "<style scoped>\n",
              "    .dataframe tbody tr th:only-of-type {\n",
              "        vertical-align: middle;\n",
              "    }\n",
              "\n",
              "    .dataframe tbody tr th {\n",
              "        vertical-align: top;\n",
              "    }\n",
              "\n",
              "    .dataframe thead th {\n",
              "        text-align: right;\n",
              "    }\n",
              "</style>\n",
              "<table border=\"1\" class=\"dataframe\">\n",
              "  <thead>\n",
              "    <tr style=\"text-align: right;\">\n",
              "      <th></th>\n",
              "      <th>customerid</th>\n",
              "      <th>systemloanid</th>\n",
              "      <th>loannumber</th>\n",
              "      <th>approveddate</th>\n",
              "      <th>creationdate</th>\n",
              "      <th>loanamount</th>\n",
              "      <th>totaldue</th>\n",
              "      <th>termdays</th>\n",
              "      <th>referredby</th>\n",
              "    </tr>\n",
              "  </thead>\n",
              "  <tbody>\n",
              "    <tr>\n",
              "      <th>0</th>\n",
              "      <td>8a858899538ddb8e015390510b321f08</td>\n",
              "      <td>301998974</td>\n",
              "      <td>4</td>\n",
              "      <td>40:48.0</td>\n",
              "      <td>39:35.0</td>\n",
              "      <td>10000</td>\n",
              "      <td>12250.0</td>\n",
              "      <td>30</td>\n",
              "      <td>NaN</td>\n",
              "    </tr>\n",
              "    <tr>\n",
              "      <th>1</th>\n",
              "      <td>8a858959537a097401537a4e316e25f7</td>\n",
              "      <td>301963615</td>\n",
              "      <td>10</td>\n",
              "      <td>43:40.0</td>\n",
              "      <td>42:34.0</td>\n",
              "      <td>40000</td>\n",
              "      <td>44000.0</td>\n",
              "      <td>30</td>\n",
              "      <td>NaN</td>\n",
              "    </tr>\n",
              "    <tr>\n",
              "      <th>2</th>\n",
              "      <td>8a8589c253ace09b0153af6ba58f1f31</td>\n",
              "      <td>301982236</td>\n",
              "      <td>6</td>\n",
              "      <td>15:11.0</td>\n",
              "      <td>15:04.0</td>\n",
              "      <td>20000</td>\n",
              "      <td>24500.0</td>\n",
              "      <td>30</td>\n",
              "      <td>NaN</td>\n",
              "    </tr>\n",
              "  </tbody>\n",
              "</table>\n",
              "</div>"
            ],
            "text/plain": [
              "                         customerid  systemloanid  ...  termdays referredby\n",
              "0  8a858899538ddb8e015390510b321f08     301998974  ...        30        NaN\n",
              "1  8a858959537a097401537a4e316e25f7     301963615  ...        30        NaN\n",
              "2  8a8589c253ace09b0153af6ba58f1f31     301982236  ...        30        NaN\n",
              "\n",
              "[3 rows x 9 columns]"
            ]
          },
          "metadata": {},
          "execution_count": 55
        }
      ]
    },
    {
      "cell_type": "markdown",
      "metadata": {
        "id": "_VpKNEdxr9Q8"
      },
      "source": [
        "\n",
        "##Merging the Dataset"
      ]
    },
    {
      "cell_type": "code",
      "metadata": {
        "id": "v0Trqfeu7sPa"
      },
      "source": [
        "test_pf= test_pf.drop([\"creationdate\",\"approveddate\",\"referredby\"], axis= 1)\n",
        "train_pf= train_pf.drop([\"referredby\"], axis= 1)"
      ],
      "execution_count": null,
      "outputs": []
    },
    {
      "cell_type": "code",
      "metadata": {
        "colab": {
          "base_uri": "https://localhost:8080/",
          "height": 215
        },
        "id": "I6QW-v0V99MX",
        "outputId": "d92d2605-2e8b-4125-ee1d-5649e7737a4d"
      },
      "source": [
        "train_bank= pd.merge(train_pf, train_pv[\"firstduedate\"], left_index= True, right_index= True)\n",
        "train_bank= pd.merge(train_bank, train_pv[\"closeddate\"], left_index= True, right_index= True)\n",
        "train_bank= pd.merge(train_bank, train_pv[\"firstrepaiddate\"], left_index= True, right_index= True)\n",
        "train_bank= pd.merge(train_bank, train_dg[\"birthdate\"], left_index= True, right_index= True)\n",
        "train_bank= pd.merge(train_bank, train_dg[\"longitude_gps\"], left_index= True, right_index= True)\n",
        "train_bank= pd.merge(train_bank, train_dg[\"latitude_gps\"], left_index= True, right_index= True)\n",
        "train_bank= pd.merge(train_bank, train_dg[\"bank_account_type\"], left_index= True, right_index= True)\n",
        "train_bank= pd.merge(train_bank, train_dg[\"employment_status_clients\"], left_index= True, right_index= True)\n",
        "train_bank= pd.merge(train_bank, train_dg[\"level_of_education_clients\"], left_index= True, right_index= True)\n",
        "train_bank.head(3)"
      ],
      "execution_count": null,
      "outputs": [
        {
          "output_type": "execute_result",
          "data": {
            "text/html": [
              "<div>\n",
              "<style scoped>\n",
              "    .dataframe tbody tr th:only-of-type {\n",
              "        vertical-align: middle;\n",
              "    }\n",
              "\n",
              "    .dataframe tbody tr th {\n",
              "        vertical-align: top;\n",
              "    }\n",
              "\n",
              "    .dataframe thead th {\n",
              "        text-align: right;\n",
              "    }\n",
              "</style>\n",
              "<table border=\"1\" class=\"dataframe\">\n",
              "  <thead>\n",
              "    <tr style=\"text-align: right;\">\n",
              "      <th></th>\n",
              "      <th>customerid</th>\n",
              "      <th>systemloanid</th>\n",
              "      <th>loannumber</th>\n",
              "      <th>approveddate</th>\n",
              "      <th>creationdate</th>\n",
              "      <th>loanamount</th>\n",
              "      <th>totaldue</th>\n",
              "      <th>termdays</th>\n",
              "      <th>good_bad_flag</th>\n",
              "      <th>firstduedate</th>\n",
              "      <th>closeddate</th>\n",
              "      <th>firstrepaiddate</th>\n",
              "      <th>birthdate</th>\n",
              "      <th>longitude_gps</th>\n",
              "      <th>latitude_gps</th>\n",
              "      <th>bank_account_type</th>\n",
              "      <th>employment_status_clients</th>\n",
              "      <th>level_of_education_clients</th>\n",
              "    </tr>\n",
              "  </thead>\n",
              "  <tbody>\n",
              "    <tr>\n",
              "      <th>0</th>\n",
              "      <td>8a2a81a74ce8c05d014cfb32a0da1049</td>\n",
              "      <td>301994762</td>\n",
              "      <td>12</td>\n",
              "      <td>25-07-2017 08:22</td>\n",
              "      <td>25-07-2017 07:22</td>\n",
              "      <td>30000</td>\n",
              "      <td>34500.0</td>\n",
              "      <td>30</td>\n",
              "      <td>Good</td>\n",
              "      <td>14-09-2016</td>\n",
              "      <td>01-09-2016 16:06</td>\n",
              "      <td>01-09-2016 15:51</td>\n",
              "      <td>10-10-1973</td>\n",
              "      <td>3.319219</td>\n",
              "      <td>6.528604</td>\n",
              "      <td>Savings</td>\n",
              "      <td>NaN</td>\n",
              "      <td>NaN</td>\n",
              "    </tr>\n",
              "    <tr>\n",
              "      <th>1</th>\n",
              "      <td>8a85886e54beabf90154c0a29ae757c0</td>\n",
              "      <td>301965204</td>\n",
              "      <td>2</td>\n",
              "      <td>05-07-2017 17:04</td>\n",
              "      <td>05-07-2017 16:04</td>\n",
              "      <td>15000</td>\n",
              "      <td>17250.0</td>\n",
              "      <td>30</td>\n",
              "      <td>Good</td>\n",
              "      <td>30-05-2017</td>\n",
              "      <td>28-05-2017 14:44</td>\n",
              "      <td>26-05-2017 00:00</td>\n",
              "      <td>21-01-1986</td>\n",
              "      <td>3.325598</td>\n",
              "      <td>7.119403</td>\n",
              "      <td>Savings</td>\n",
              "      <td>Permanent</td>\n",
              "      <td>NaN</td>\n",
              "    </tr>\n",
              "    <tr>\n",
              "      <th>2</th>\n",
              "      <td>8a8588f35438fe12015444567666018e</td>\n",
              "      <td>301966580</td>\n",
              "      <td>7</td>\n",
              "      <td>06-07-2017 14:52</td>\n",
              "      <td>06-07-2017 13:52</td>\n",
              "      <td>20000</td>\n",
              "      <td>22250.0</td>\n",
              "      <td>15</td>\n",
              "      <td>Good</td>\n",
              "      <td>04-04-2017</td>\n",
              "      <td>26-04-2017 22:18</td>\n",
              "      <td>26-04-2017 22:03</td>\n",
              "      <td>01-04-1987</td>\n",
              "      <td>5.746100</td>\n",
              "      <td>5.563174</td>\n",
              "      <td>Savings</td>\n",
              "      <td>NaN</td>\n",
              "      <td>NaN</td>\n",
              "    </tr>\n",
              "  </tbody>\n",
              "</table>\n",
              "</div>"
            ],
            "text/plain": [
              "                         customerid  ...  level_of_education_clients\n",
              "0  8a2a81a74ce8c05d014cfb32a0da1049  ...                         NaN\n",
              "1  8a85886e54beabf90154c0a29ae757c0  ...                         NaN\n",
              "2  8a8588f35438fe12015444567666018e  ...                         NaN\n",
              "\n",
              "[3 rows x 18 columns]"
            ]
          },
          "metadata": {},
          "execution_count": 11
        }
      ]
    },
    {
      "cell_type": "code",
      "metadata": {
        "colab": {
          "base_uri": "https://localhost:8080/",
          "height": 215
        },
        "id": "AH88nDSVsxYL",
        "outputId": "33e7e844-7ee4-410c-a9ee-ecaf826358f4"
      },
      "source": [
        "test_bank= pd.merge(test_pf, test_pv[\"firstduedate\"], left_index= True, right_index= True)\n",
        "test_bank= pd.merge(test_bank, test_pv[\"closeddate\"], left_index= True, right_index= True)\n",
        "test_bank= pd.merge(test_bank, test_pv[\"firstrepaiddate\"], left_index= True, right_index= True)\n",
        "test_bank= pd.merge(test_bank, test_pv[\"creationdate\"], left_index= True, right_index= True)\n",
        "test_bank= pd.merge(test_bank, test_pv[\"approveddate\"], left_index= True, right_index= True)\n",
        "test_bank= pd.merge(test_bank, test_dg[\"birthdate\"], left_index= True, right_index= True)\n",
        "test_bank= pd.merge(test_bank, test_dg[\"longitude_gps\"], left_index= True, right_index= True)\n",
        "test_bank= pd.merge(test_bank, test_dg[\"latitude_gps\"], left_index= True, right_index= True)\n",
        "test_bank= pd.merge(test_bank, test_dg[\"bank_account_type\"], left_index= True, right_index= True)\n",
        "test_bank= pd.merge(test_bank, test_dg[\"employment_status_clients\"], left_index= True, right_index= True)\n",
        "test_bank=pd.merge(test_bank, test_dg[\"level_of_education_clients\"], left_index=True, right_index= True)\n",
        "test_bank.head(3)"
      ],
      "execution_count": null,
      "outputs": [
        {
          "output_type": "execute_result",
          "data": {
            "text/html": [
              "<div>\n",
              "<style scoped>\n",
              "    .dataframe tbody tr th:only-of-type {\n",
              "        vertical-align: middle;\n",
              "    }\n",
              "\n",
              "    .dataframe tbody tr th {\n",
              "        vertical-align: top;\n",
              "    }\n",
              "\n",
              "    .dataframe thead th {\n",
              "        text-align: right;\n",
              "    }\n",
              "</style>\n",
              "<table border=\"1\" class=\"dataframe\">\n",
              "  <thead>\n",
              "    <tr style=\"text-align: right;\">\n",
              "      <th></th>\n",
              "      <th>customerid</th>\n",
              "      <th>systemloanid</th>\n",
              "      <th>loannumber</th>\n",
              "      <th>loanamount</th>\n",
              "      <th>totaldue</th>\n",
              "      <th>termdays</th>\n",
              "      <th>firstduedate</th>\n",
              "      <th>closeddate</th>\n",
              "      <th>firstrepaiddate</th>\n",
              "      <th>creationdate</th>\n",
              "      <th>approveddate</th>\n",
              "      <th>birthdate</th>\n",
              "      <th>longitude_gps</th>\n",
              "      <th>latitude_gps</th>\n",
              "      <th>bank_account_type</th>\n",
              "      <th>employment_status_clients</th>\n",
              "      <th>level_of_education_clients</th>\n",
              "    </tr>\n",
              "  </thead>\n",
              "  <tbody>\n",
              "    <tr>\n",
              "      <th>0</th>\n",
              "      <td>8a858899538ddb8e015390510b321f08</td>\n",
              "      <td>301998974</td>\n",
              "      <td>4</td>\n",
              "      <td>10000</td>\n",
              "      <td>12250.0</td>\n",
              "      <td>30</td>\n",
              "      <td>14-09-2016</td>\n",
              "      <td>01-09-2016 16:06</td>\n",
              "      <td>01-09-2016 15:51</td>\n",
              "      <td>15-08-2016 17:22</td>\n",
              "      <td>15-08-2016 18:22</td>\n",
              "      <td>28-08-1976</td>\n",
              "      <td>5.296628</td>\n",
              "      <td>7.593965</td>\n",
              "      <td>Savings</td>\n",
              "      <td>Permanent</td>\n",
              "      <td>NaN</td>\n",
              "    </tr>\n",
              "    <tr>\n",
              "      <th>1</th>\n",
              "      <td>8a858959537a097401537a4e316e25f7</td>\n",
              "      <td>301963615</td>\n",
              "      <td>10</td>\n",
              "      <td>40000</td>\n",
              "      <td>44000.0</td>\n",
              "      <td>30</td>\n",
              "      <td>30-05-2017</td>\n",
              "      <td>28-05-2017 14:44</td>\n",
              "      <td>26-05-2017 00:00</td>\n",
              "      <td>28-04-2017 17:38</td>\n",
              "      <td>28-04-2017 18:39</td>\n",
              "      <td>23-06-1978</td>\n",
              "      <td>3.294513</td>\n",
              "      <td>6.596602</td>\n",
              "      <td>Savings</td>\n",
              "      <td>Permanent</td>\n",
              "      <td>NaN</td>\n",
              "    </tr>\n",
              "    <tr>\n",
              "      <th>2</th>\n",
              "      <td>8a8589c253ace09b0153af6ba58f1f31</td>\n",
              "      <td>301982236</td>\n",
              "      <td>6</td>\n",
              "      <td>20000</td>\n",
              "      <td>24500.0</td>\n",
              "      <td>30</td>\n",
              "      <td>04-04-2017</td>\n",
              "      <td>26-04-2017 22:18</td>\n",
              "      <td>26-04-2017 22:03</td>\n",
              "      <td>05-03-2017 09:56</td>\n",
              "      <td>05-03-2017 10:56</td>\n",
              "      <td>04-04-1984</td>\n",
              "      <td>8.501912</td>\n",
              "      <td>7.729364</td>\n",
              "      <td>Savings</td>\n",
              "      <td>Permanent</td>\n",
              "      <td>NaN</td>\n",
              "    </tr>\n",
              "  </tbody>\n",
              "</table>\n",
              "</div>"
            ],
            "text/plain": [
              "                         customerid  ...  level_of_education_clients\n",
              "0  8a858899538ddb8e015390510b321f08  ...                         NaN\n",
              "1  8a858959537a097401537a4e316e25f7  ...                         NaN\n",
              "2  8a8589c253ace09b0153af6ba58f1f31  ...                         NaN\n",
              "\n",
              "[3 rows x 17 columns]"
            ]
          },
          "metadata": {},
          "execution_count": 12
        }
      ]
    },
    {
      "cell_type": "code",
      "metadata": {
        "colab": {
          "base_uri": "https://localhost:8080/"
        },
        "id": "7VMowRkis20_",
        "outputId": "86d23dcd-19d0-4e43-f916-51fd74b4d13f"
      },
      "source": [
        "train_bank.info()"
      ],
      "execution_count": null,
      "outputs": [
        {
          "output_type": "stream",
          "name": "stdout",
          "text": [
            "<class 'pandas.core.frame.DataFrame'>\n",
            "Int64Index: 4346 entries, 0 to 4345\n",
            "Data columns (total 18 columns):\n",
            " #   Column                      Non-Null Count  Dtype  \n",
            "---  ------                      --------------  -----  \n",
            " 0   customerid                  4346 non-null   object \n",
            " 1   systemloanid                4346 non-null   int64  \n",
            " 2   loannumber                  4346 non-null   int64  \n",
            " 3   approveddate                4346 non-null   object \n",
            " 4   creationdate                4346 non-null   object \n",
            " 5   loanamount                  4346 non-null   int64  \n",
            " 6   totaldue                    4346 non-null   float64\n",
            " 7   termdays                    4346 non-null   int64  \n",
            " 8   good_bad_flag               4346 non-null   object \n",
            " 9   firstduedate                4346 non-null   object \n",
            " 10  closeddate                  4346 non-null   object \n",
            " 11  firstrepaiddate             4346 non-null   object \n",
            " 12  birthdate                   4346 non-null   object \n",
            " 13  longitude_gps               4346 non-null   float64\n",
            " 14  latitude_gps                4346 non-null   float64\n",
            " 15  bank_account_type           4346 non-null   object \n",
            " 16  employment_status_clients   3698 non-null   object \n",
            " 17  level_of_education_clients  587 non-null    object \n",
            "dtypes: float64(3), int64(4), object(11)\n",
            "memory usage: 805.1+ KB\n"
          ]
        }
      ]
    },
    {
      "cell_type": "code",
      "metadata": {
        "colab": {
          "base_uri": "https://localhost:8080/"
        },
        "id": "f4FmjUL7tpgv",
        "outputId": "608d1be8-c802-4117-f116-e39c8d0026fb"
      },
      "source": [
        "test_bank.info()"
      ],
      "execution_count": null,
      "outputs": [
        {
          "output_type": "stream",
          "name": "stdout",
          "text": [
            "<class 'pandas.core.frame.DataFrame'>\n",
            "Int64Index: 1450 entries, 0 to 1449\n",
            "Data columns (total 17 columns):\n",
            " #   Column                      Non-Null Count  Dtype  \n",
            "---  ------                      --------------  -----  \n",
            " 0   customerid                  1450 non-null   object \n",
            " 1   systemloanid                1450 non-null   int64  \n",
            " 2   loannumber                  1450 non-null   int64  \n",
            " 3   loanamount                  1450 non-null   int64  \n",
            " 4   totaldue                    1450 non-null   float64\n",
            " 5   termdays                    1450 non-null   int64  \n",
            " 6   firstduedate                1450 non-null   object \n",
            " 7   closeddate                  1450 non-null   object \n",
            " 8   firstrepaiddate             1450 non-null   object \n",
            " 9   creationdate                1450 non-null   object \n",
            " 10  approveddate                1450 non-null   object \n",
            " 11  birthdate                   1450 non-null   object \n",
            " 12  longitude_gps               1450 non-null   float64\n",
            " 13  latitude_gps                1450 non-null   float64\n",
            " 14  bank_account_type           1450 non-null   object \n",
            " 15  employment_status_clients   1239 non-null   object \n",
            " 16  level_of_education_clients  201 non-null    object \n",
            "dtypes: float64(3), int64(4), object(10)\n",
            "memory usage: 203.9+ KB\n"
          ]
        }
      ]
    },
    {
      "cell_type": "markdown",
      "metadata": {
        "id": "YvEOLtTtw4dr"
      },
      "source": [
        "## Data Preprocessing\n"
      ]
    },
    {
      "cell_type": "code",
      "metadata": {
        "colab": {
          "base_uri": "https://localhost:8080/"
        },
        "id": "o-i937g0w1Va",
        "outputId": "7ba78987-9637-46b5-9727-a6bae7d62308"
      },
      "source": [
        "train_bank.isnull().sum()"
      ],
      "execution_count": null,
      "outputs": [
        {
          "output_type": "execute_result",
          "data": {
            "text/plain": [
              "customerid                       0\n",
              "systemloanid                     0\n",
              "loannumber                       0\n",
              "approveddate                     0\n",
              "creationdate                     0\n",
              "loanamount                       0\n",
              "totaldue                         0\n",
              "termdays                         0\n",
              "good_bad_flag                    0\n",
              "firstduedate                     0\n",
              "closeddate                       0\n",
              "firstrepaiddate                  0\n",
              "birthdate                        0\n",
              "longitude_gps                    0\n",
              "latitude_gps                     0\n",
              "bank_account_type                0\n",
              "employment_status_clients      648\n",
              "level_of_education_clients    3759\n",
              "dtype: int64"
            ]
          },
          "metadata": {},
          "execution_count": 15
        }
      ]
    },
    {
      "cell_type": "code",
      "metadata": {
        "colab": {
          "base_uri": "https://localhost:8080/"
        },
        "id": "fAqvQyd9xFOu",
        "outputId": "aa8e6777-8709-4624-dc2f-46337e7d6e1b"
      },
      "source": [
        "test_bank.isnull().sum()"
      ],
      "execution_count": null,
      "outputs": [
        {
          "output_type": "execute_result",
          "data": {
            "text/plain": [
              "customerid                       0\n",
              "systemloanid                     0\n",
              "loannumber                       0\n",
              "loanamount                       0\n",
              "totaldue                         0\n",
              "termdays                         0\n",
              "firstduedate                     0\n",
              "closeddate                       0\n",
              "firstrepaiddate                  0\n",
              "creationdate                     0\n",
              "approveddate                     0\n",
              "birthdate                        0\n",
              "longitude_gps                    0\n",
              "latitude_gps                     0\n",
              "bank_account_type                0\n",
              "employment_status_clients      211\n",
              "level_of_education_clients    1249\n",
              "dtype: int64"
            ]
          },
          "metadata": {},
          "execution_count": 16
        }
      ]
    },
    {
      "cell_type": "code",
      "metadata": {
        "id": "YHynitySxO8w"
      },
      "source": [
        "train_bank[\"employment_status_clients\"]= train_bank[\"employment_status_clients\"].fillna(\"Permanent\", axis= 0)\n",
        "train_bank[\"level_of_education_clients\"]= train_bank[\"level_of_education_clients\"].fillna(\"Graduate\", axis=0)"
      ],
      "execution_count": null,
      "outputs": []
    },
    {
      "cell_type": "code",
      "metadata": {
        "id": "DAPsMFrWxTvm"
      },
      "source": [
        "test_bank[\"employment_status_clients\"]= test_bank[\"employment_status_clients\"].fillna(\"Permanent\", axis= 0)\n",
        "test_bank[\"level_of_education_clients\"]= test_bank[\"level_of_education_clients\"].fillna(\"Graduate\", axis= 0)"
      ],
      "execution_count": null,
      "outputs": []
    },
    {
      "cell_type": "code",
      "metadata": {
        "colab": {
          "base_uri": "https://localhost:8080/"
        },
        "id": "r5imHQ8txWup",
        "outputId": "73d9666c-2c70-4d0a-93fb-8e82fb52af02"
      },
      "source": [
        "train_bank.good_bad_flag.value_counts(normalize= True) *100"
      ],
      "execution_count": null,
      "outputs": [
        {
          "output_type": "execute_result",
          "data": {
            "text/plain": [
              "Good    78.301887\n",
              "Bad     21.698113\n",
              "Name: good_bad_flag, dtype: float64"
            ]
          },
          "metadata": {},
          "execution_count": 19
        }
      ]
    },
    {
      "cell_type": "code",
      "metadata": {
        "colab": {
          "base_uri": "https://localhost:8080/",
          "height": 144
        },
        "id": "cgSSJq23xZK6",
        "outputId": "61d5557b-d9f6-4b61-a068-cdeeb1145792"
      },
      "source": [
        "bct_index= train_bank.groupby(\"bank_account_type\").sum().reset_index()\n",
        "bct_index"
      ],
      "execution_count": null,
      "outputs": [
        {
          "output_type": "execute_result",
          "data": {
            "text/html": [
              "<div>\n",
              "<style scoped>\n",
              "    .dataframe tbody tr th:only-of-type {\n",
              "        vertical-align: middle;\n",
              "    }\n",
              "\n",
              "    .dataframe tbody tr th {\n",
              "        vertical-align: top;\n",
              "    }\n",
              "\n",
              "    .dataframe thead th {\n",
              "        text-align: right;\n",
              "    }\n",
              "</style>\n",
              "<table border=\"1\" class=\"dataframe\">\n",
              "  <thead>\n",
              "    <tr style=\"text-align: right;\">\n",
              "      <th></th>\n",
              "      <th>bank_account_type</th>\n",
              "      <th>systemloanid</th>\n",
              "      <th>loannumber</th>\n",
              "      <th>loanamount</th>\n",
              "      <th>totaldue</th>\n",
              "      <th>termdays</th>\n",
              "      <th>longitude_gps</th>\n",
              "      <th>latitude_gps</th>\n",
              "    </tr>\n",
              "  </thead>\n",
              "  <tbody>\n",
              "    <tr>\n",
              "      <th>0</th>\n",
              "      <td>Current</td>\n",
              "      <td>16910840245</td>\n",
              "      <td>278</td>\n",
              "      <td>895000</td>\n",
              "      <td>1062125.0</td>\n",
              "      <td>1515</td>\n",
              "      <td>270.662593</td>\n",
              "      <td>397.105742</td>\n",
              "    </tr>\n",
              "    <tr>\n",
              "      <th>1</th>\n",
              "      <td>Other</td>\n",
              "      <td>261213343965</td>\n",
              "      <td>4421</td>\n",
              "      <td>15400000</td>\n",
              "      <td>18338813.0</td>\n",
              "      <td>24975</td>\n",
              "      <td>4057.112313</td>\n",
              "      <td>6186.697267</td>\n",
              "    </tr>\n",
              "    <tr>\n",
              "      <th>2</th>\n",
              "      <td>Savings</td>\n",
              "      <td>1034285107908</td>\n",
              "      <td>17768</td>\n",
              "      <td>61070000</td>\n",
              "      <td>72953912.7</td>\n",
              "      <td>100725</td>\n",
              "      <td>15777.641015</td>\n",
              "      <td>24930.588750</td>\n",
              "    </tr>\n",
              "  </tbody>\n",
              "</table>\n",
              "</div>"
            ],
            "text/plain": [
              "  bank_account_type   systemloanid  ...  longitude_gps  latitude_gps\n",
              "0           Current    16910840245  ...     270.662593    397.105742\n",
              "1             Other   261213343965  ...    4057.112313   6186.697267\n",
              "2           Savings  1034285107908  ...   15777.641015  24930.588750\n",
              "\n",
              "[3 rows x 8 columns]"
            ]
          },
          "metadata": {},
          "execution_count": 20
        }
      ]
    },
    {
      "cell_type": "code",
      "metadata": {
        "colab": {
          "base_uri": "https://localhost:8080/",
          "height": 237
        },
        "id": "GihQHW_H1mDu",
        "outputId": "5e2bb71d-66bd-4922-9cb9-6eda482bd605"
      },
      "source": [
        "esc_index= train_bank.groupby(\"employment_status_clients\").sum().reset_index()\n",
        "esc_index"
      ],
      "execution_count": null,
      "outputs": [
        {
          "output_type": "execute_result",
          "data": {
            "text/html": [
              "<div>\n",
              "<style scoped>\n",
              "    .dataframe tbody tr th:only-of-type {\n",
              "        vertical-align: middle;\n",
              "    }\n",
              "\n",
              "    .dataframe tbody tr th {\n",
              "        vertical-align: top;\n",
              "    }\n",
              "\n",
              "    .dataframe thead th {\n",
              "        text-align: right;\n",
              "    }\n",
              "</style>\n",
              "<table border=\"1\" class=\"dataframe\">\n",
              "  <thead>\n",
              "    <tr style=\"text-align: right;\">\n",
              "      <th></th>\n",
              "      <th>employment_status_clients</th>\n",
              "      <th>systemloanid</th>\n",
              "      <th>loannumber</th>\n",
              "      <th>loanamount</th>\n",
              "      <th>totaldue</th>\n",
              "      <th>termdays</th>\n",
              "      <th>longitude_gps</th>\n",
              "      <th>latitude_gps</th>\n",
              "    </tr>\n",
              "  </thead>\n",
              "  <tbody>\n",
              "    <tr>\n",
              "      <th>0</th>\n",
              "      <td>Contract</td>\n",
              "      <td>302001209</td>\n",
              "      <td>2</td>\n",
              "      <td>10000</td>\n",
              "      <td>11500.0</td>\n",
              "      <td>15</td>\n",
              "      <td>4.528632</td>\n",
              "      <td>8.468787</td>\n",
              "    </tr>\n",
              "    <tr>\n",
              "      <th>1</th>\n",
              "      <td>Permanent</td>\n",
              "      <td>1145715543328</td>\n",
              "      <td>19606</td>\n",
              "      <td>67560000</td>\n",
              "      <td>80695888.2</td>\n",
              "      <td>111210</td>\n",
              "      <td>17555.111139</td>\n",
              "      <td>27650.581742</td>\n",
              "    </tr>\n",
              "    <tr>\n",
              "      <th>2</th>\n",
              "      <td>Retired</td>\n",
              "      <td>1207915014</td>\n",
              "      <td>15</td>\n",
              "      <td>60000</td>\n",
              "      <td>73500.0</td>\n",
              "      <td>105</td>\n",
              "      <td>19.660014</td>\n",
              "      <td>23.131409</td>\n",
              "    </tr>\n",
              "    <tr>\n",
              "      <th>3</th>\n",
              "      <td>Self-Employed</td>\n",
              "      <td>105089305004</td>\n",
              "      <td>1817</td>\n",
              "      <td>6165000</td>\n",
              "      <td>7316687.5</td>\n",
              "      <td>9900</td>\n",
              "      <td>1621.396506</td>\n",
              "      <td>2388.589244</td>\n",
              "    </tr>\n",
              "    <tr>\n",
              "      <th>4</th>\n",
              "      <td>Student</td>\n",
              "      <td>42881603334</td>\n",
              "      <td>693</td>\n",
              "      <td>2525000</td>\n",
              "      <td>3018000.0</td>\n",
              "      <td>4305</td>\n",
              "      <td>611.731209</td>\n",
              "      <td>1064.831137</td>\n",
              "    </tr>\n",
              "    <tr>\n",
              "      <th>5</th>\n",
              "      <td>Unemployed</td>\n",
              "      <td>17212924229</td>\n",
              "      <td>334</td>\n",
              "      <td>1045000</td>\n",
              "      <td>1239275.0</td>\n",
              "      <td>1680</td>\n",
              "      <td>292.988421</td>\n",
              "      <td>378.789439</td>\n",
              "    </tr>\n",
              "  </tbody>\n",
              "</table>\n",
              "</div>"
            ],
            "text/plain": [
              "  employment_status_clients   systemloanid  ...  longitude_gps  latitude_gps\n",
              "0                  Contract      302001209  ...       4.528632      8.468787\n",
              "1                 Permanent  1145715543328  ...   17555.111139  27650.581742\n",
              "2                   Retired     1207915014  ...      19.660014     23.131409\n",
              "3             Self-Employed   105089305004  ...    1621.396506   2388.589244\n",
              "4                   Student    42881603334  ...     611.731209   1064.831137\n",
              "5                Unemployed    17212924229  ...     292.988421    378.789439\n",
              "\n",
              "[6 rows x 8 columns]"
            ]
          },
          "metadata": {},
          "execution_count": 21
        }
      ]
    },
    {
      "cell_type": "code",
      "metadata": {
        "colab": {
          "base_uri": "https://localhost:8080/",
          "height": 175
        },
        "id": "7JjRhVUs1o3t",
        "outputId": "72df2312-e042-4092-84ec-2866feb3a70c"
      },
      "source": [
        "lec_index= train_bank.groupby(\"level_of_education_clients\").sum().reset_index()\n",
        "lec_index"
      ],
      "execution_count": null,
      "outputs": [
        {
          "output_type": "execute_result",
          "data": {
            "text/html": [
              "<div>\n",
              "<style scoped>\n",
              "    .dataframe tbody tr th:only-of-type {\n",
              "        vertical-align: middle;\n",
              "    }\n",
              "\n",
              "    .dataframe tbody tr th {\n",
              "        vertical-align: top;\n",
              "    }\n",
              "\n",
              "    .dataframe thead th {\n",
              "        text-align: right;\n",
              "    }\n",
              "</style>\n",
              "<table border=\"1\" class=\"dataframe\">\n",
              "  <thead>\n",
              "    <tr style=\"text-align: right;\">\n",
              "      <th></th>\n",
              "      <th>level_of_education_clients</th>\n",
              "      <th>systemloanid</th>\n",
              "      <th>loannumber</th>\n",
              "      <th>loanamount</th>\n",
              "      <th>totaldue</th>\n",
              "      <th>termdays</th>\n",
              "      <th>longitude_gps</th>\n",
              "      <th>latitude_gps</th>\n",
              "    </tr>\n",
              "  </thead>\n",
              "  <tbody>\n",
              "    <tr>\n",
              "      <th>0</th>\n",
              "      <td>Graduate</td>\n",
              "      <td>1261978433605</td>\n",
              "      <td>21573</td>\n",
              "      <td>74405000</td>\n",
              "      <td>88828850.7</td>\n",
              "      <td>122280</td>\n",
              "      <td>19425.375336</td>\n",
              "      <td>30314.579678</td>\n",
              "    </tr>\n",
              "    <tr>\n",
              "      <th>1</th>\n",
              "      <td>Post-Graduate</td>\n",
              "      <td>20534748836</td>\n",
              "      <td>357</td>\n",
              "      <td>1175000</td>\n",
              "      <td>1411125.0</td>\n",
              "      <td>2025</td>\n",
              "      <td>320.306088</td>\n",
              "      <td>486.975400</td>\n",
              "    </tr>\n",
              "    <tr>\n",
              "      <th>2</th>\n",
              "      <td>Primary</td>\n",
              "      <td>3019872827</td>\n",
              "      <td>63</td>\n",
              "      <td>210000</td>\n",
              "      <td>244750.0</td>\n",
              "      <td>255</td>\n",
              "      <td>47.144160</td>\n",
              "      <td>69.009079</td>\n",
              "    </tr>\n",
              "    <tr>\n",
              "      <th>3</th>\n",
              "      <td>Secondary</td>\n",
              "      <td>26876236850</td>\n",
              "      <td>474</td>\n",
              "      <td>1575000</td>\n",
              "      <td>1870125.0</td>\n",
              "      <td>2655</td>\n",
              "      <td>312.590337</td>\n",
              "      <td>643.827601</td>\n",
              "    </tr>\n",
              "  </tbody>\n",
              "</table>\n",
              "</div>"
            ],
            "text/plain": [
              "  level_of_education_clients   systemloanid  ...  longitude_gps  latitude_gps\n",
              "0                   Graduate  1261978433605  ...   19425.375336  30314.579678\n",
              "1              Post-Graduate    20534748836  ...     320.306088    486.975400\n",
              "2                    Primary     3019872827  ...      47.144160     69.009079\n",
              "3                  Secondary    26876236850  ...     312.590337    643.827601\n",
              "\n",
              "[4 rows x 8 columns]"
            ]
          },
          "metadata": {},
          "execution_count": 22
        }
      ]
    },
    {
      "cell_type": "code",
      "metadata": {
        "id": "NKKp6fUZ1qwV"
      },
      "source": [
        "\n",
        "train_bank[\"birthdate\"]= pd.to_datetime(train_bank[\"birthdate\"])\n",
        "train_bank[\"approveddate\"]= pd.to_datetime(train_bank[\"approveddate\"])\n",
        "train_bank[\"creationdate\"]= pd.to_datetime(train_bank[\"creationdate\"])\n",
        "train_bank[\"firstduedate\"]= pd.to_datetime(train_bank[\"firstduedate\"])\n",
        "train_bank[\"firstrepaiddate\"]= pd.to_datetime(train_bank[\"firstrepaiddate\"])\n",
        "train_bank[\"closeddate\"]= pd.to_datetime(train_bank[\"firstrepaiddate\"])"
      ],
      "execution_count": null,
      "outputs": []
    },
    {
      "cell_type": "code",
      "metadata": {
        "id": "Zwho1ExN1snM"
      },
      "source": [
        "test_bank[\"birthdate\"]= pd.to_datetime(test_bank[\"birthdate\"])\n",
        "test_bank[\"approveddate\"]= pd.to_datetime(test_bank[\"approveddate\"])\n",
        "test_bank[\"creationdate\"]= pd.to_datetime(test_bank[\"creationdate\"])\n",
        "test_bank[\"firstduedate\"]= pd.to_datetime(test_bank[\"firstduedate\"])\n",
        "test_bank[\"firstrepaiddate\"]= pd.to_datetime(test_bank[\"firstrepaiddate\"])\n",
        "test_bank[\"closeddate\"]= pd.to_datetime(test_bank[\"closeddate\"])\n"
      ],
      "execution_count": null,
      "outputs": []
    },
    {
      "cell_type": "code",
      "metadata": {
        "id": "p7GqbmpU1ukd"
      },
      "source": [
        "from datetime import datetime\n",
        "train_bank[\"birth\"]= [datetime.timestamp(i) for i in train_bank.birthdate]\n",
        "train_bank[\"approved\"]= [datetime.timestamp(i) for i in train_bank.approveddate]\n",
        "train_bank[\"creation\"]= [datetime.timestamp(i) for i in train_bank.creationdate]\n",
        "train_bank[\"duedate\"]= [datetime.timestamp(i) for i in train_bank.firstduedate]\n",
        "train_bank[\"repaiddate\"]= [datetime.timestamp(i) for i in train_bank.firstrepaiddate]\n",
        "train_bank[\"closed\"]= [datetime.timestamp(i) for i in train_bank.closeddate]"
      ],
      "execution_count": null,
      "outputs": []
    },
    {
      "cell_type": "code",
      "metadata": {
        "id": "ogf3HZR91xUE"
      },
      "source": [
        "test_bank[\"birth\"]= [datetime.timestamp(i) for i in test_bank.birthdate]\n",
        "test_bank[\"approved\"]= [datetime.timestamp(i) for i in test_bank.approveddate]\n",
        "test_bank[\"creation\"] = [datetime.timestamp(i) for i in test_bank.creationdate]\n",
        "test_bank[\"duedate\"] = [datetime.timestamp(i) for i in test_bank.firstduedate]\n",
        "test_bank[\"repaiddate\"]= [datetime.timestamp(i) for i in test_bank.firstrepaiddate]\n",
        "test_bank[\"closed\"]= [datetime.timestamp(i) for i in test_bank.closeddate]"
      ],
      "execution_count": null,
      "outputs": []
    },
    {
      "cell_type": "code",
      "metadata": {
        "id": "n0qyO7_O1zv5"
      },
      "source": [
        "train_bank= train_bank.drop([\"birthdate\",\"creationdate\",\"approveddate\",\"firstduedate\",\"firstrepaiddate\",\"closeddate\"], axis= 1)"
      ],
      "execution_count": null,
      "outputs": []
    },
    {
      "cell_type": "code",
      "metadata": {
        "id": "8Fe92fic112H"
      },
      "source": [
        "test_bank= test_bank.drop([\"birthdate\",\"creationdate\",\"approveddate\",\"firstduedate\",\"firstrepaiddate\",\"closeddate\"], axis= 1)"
      ],
      "execution_count": null,
      "outputs": []
    },
    {
      "cell_type": "markdown",
      "metadata": {
        "id": "0dmZqaVu15jk"
      },
      "source": [
        "##Data Visualization"
      ]
    },
    {
      "cell_type": "code",
      "metadata": {
        "colab": {
          "base_uri": "https://localhost:8080/",
          "height": 695
        },
        "id": "VYAk4WMO3l-n",
        "outputId": "57769be6-f991-4483-b3b1-0739f0458813"
      },
      "source": [
        "fig, axes = plt.subplots(2, 2, figsize=(20, 10))\n",
        "\n",
        "fig.suptitle('good_bad_flag visualization')\n",
        "\n",
        "sns.countplot(ax=axes[0, 0], x= \"good_bad_flag\", data= train_bank)\n",
        "sns.countplot(ax=axes[0, 1],x= \"bank_account_type\",hue= \"good_bad_flag\", data= train_bank)\n",
        "sns.countplot(ax=axes[1, 0],y= \"employment_status_clients\", hue= \"good_bad_flag\", data= train_bank )\n",
        "sns.countplot(ax=axes[1, 1], y= \"level_of_education_clients\", hue= \"good_bad_flag\", data= train_bank)"
      ],
      "execution_count": null,
      "outputs": [
        {
          "output_type": "execute_result",
          "data": {
            "text/plain": [
              "<matplotlib.axes._subplots.AxesSubplot at 0x7f2ba0e99090>"
            ]
          },
          "metadata": {},
          "execution_count": 29
        },
        {
          "output_type": "display_data",
          "data": {
            "image/png": "[encoded data removed]",
            "text/plain": [
              "<Figure size 1440x720 with 4 Axes>"
            ]
          },
          "metadata": {
            "needs_background": "light"
          }
        }
      ]
    },
    {
      "cell_type": "code",
      "metadata": {
        "colab": {
          "base_uri": "https://localhost:8080/",
          "height": 407
        },
        "id": "YSxglQrd2ETY",
        "outputId": "c40cec11-637e-42cf-bf9e-30252fb86549"
      },
      "source": [
        "lec_grad= train_bank[train_bank[\"level_of_education_clients\"]== \"Graduate\"][\"good_bad_flag\"]\n",
        "print(lec_grad.value_counts(normalize= True)* 100)\n",
        "sns.countplot(lec_grad)\n",
        "plt.title(\"Graduate with good_bad_flag\")\n",
        "plt.show()"
      ],
      "execution_count": null,
      "outputs": [
        {
          "output_type": "stream",
          "name": "stdout",
          "text": [
            "Good    77.961235\n",
            "Bad     22.038765\n",
            "Name: good_bad_flag, dtype: float64\n"
          ]
        },
        {
          "output_type": "stream",
          "name": "stderr",
          "text": [
            "/usr/local/lib/python3.7/dist-packages/seaborn/_decorators.py:43: FutureWarning: Pass the following variable as a keyword arg: x. From version 0.12, the only valid positional argument will be `data`, and passing other arguments without an explicit keyword will result in an error or misinterpretation.\n",
            "  FutureWarning\n"
          ]
        },
        {
          "output_type": "display_data",
          "data": {
            "image/png": "[encoded data removed]",
            "text/plain": [
              "<Figure size 432x288 with 1 Axes>"
            ]
          },
          "metadata": {
            "needs_background": "light"
          }
        }
      ]
    },
    {
      "cell_type": "code",
      "metadata": {
        "colab": {
          "base_uri": "https://localhost:8080/",
          "height": 424
        },
        "id": "l2QZbzj22GpG",
        "outputId": "7680f71e-b2c7-45cc-f506-e9358dff8efd"
      },
      "source": [
        "lec_sec= train_bank[train_bank[\"level_of_education_clients\"]== \"Secondary\"][\"good_bad_flag\"]\n",
        "print(lec_sec.value_counts(normalize= True)*100)\n",
        "sns.countplot(lec_sec)\n",
        "plt.title(\"Secondary with gbf\")"
      ],
      "execution_count": null,
      "outputs": [
        {
          "output_type": "stream",
          "name": "stdout",
          "text": [
            "Good    85.393258\n",
            "Bad     14.606742\n",
            "Name: good_bad_flag, dtype: float64\n"
          ]
        },
        {
          "output_type": "stream",
          "name": "stderr",
          "text": [
            "/usr/local/lib/python3.7/dist-packages/seaborn/_decorators.py:43: FutureWarning: Pass the following variable as a keyword arg: x. From version 0.12, the only valid positional argument will be `data`, and passing other arguments without an explicit keyword will result in an error or misinterpretation.\n",
            "  FutureWarning\n"
          ]
        },
        {
          "output_type": "execute_result",
          "data": {
            "text/plain": [
              "Text(0.5, 1.0, 'Secondary with gbf')"
            ]
          },
          "metadata": {},
          "execution_count": 31
        },
        {
          "output_type": "display_data",
          "data": {
            "image/png": "[encoded data removed]",
            "text/plain": [
              "<Figure size 432x288 with 1 Axes>"
            ]
          },
          "metadata": {
            "needs_background": "light"
          }
        }
      ]
    },
    {
      "cell_type": "code",
      "metadata": {
        "colab": {
          "base_uri": "https://localhost:8080/",
          "height": 424
        },
        "id": "LYmyLQv72KSP",
        "outputId": "3c22d108-ba78-4c31-906c-61feb6b6e745"
      },
      "source": [
        "lec_pgrad= train_bank[train_bank[\"level_of_education_clients\"]== \"Post-Graduate\"][\"good_bad_flag\"]\n",
        "print(lec_pgrad.value_counts(normalize= True)*100)\n",
        "sns.countplot(lec_pgrad)\n",
        "plt.title(\"Post-Graduate with gbf\")"
      ],
      "execution_count": null,
      "outputs": [
        {
          "output_type": "stream",
          "name": "stdout",
          "text": [
            "Good    86.764706\n",
            "Bad     13.235294\n",
            "Name: good_bad_flag, dtype: float64\n"
          ]
        },
        {
          "output_type": "stream",
          "name": "stderr",
          "text": [
            "/usr/local/lib/python3.7/dist-packages/seaborn/_decorators.py:43: FutureWarning: Pass the following variable as a keyword arg: x. From version 0.12, the only valid positional argument will be `data`, and passing other arguments without an explicit keyword will result in an error or misinterpretation.\n",
            "  FutureWarning\n"
          ]
        },
        {
          "output_type": "execute_result",
          "data": {
            "text/plain": [
              "Text(0.5, 1.0, 'Post-Graduate with gbf')"
            ]
          },
          "metadata": {},
          "execution_count": 32
        },
        {
          "output_type": "display_data",
          "data": {
            "image/png": "[encoded data removed]",
            "text/plain": [
              "<Figure size 432x288 with 1 Axes>"
            ]
          },
          "metadata": {
            "needs_background": "light"
          }
        }
      ]
    },
    {
      "cell_type": "code",
      "metadata": {
        "colab": {
          "base_uri": "https://localhost:8080/",
          "height": 407
        },
        "id": "AlsnFXIH2OKu",
        "outputId": "dc74c699-ec58-4677-8e31-d8abe3e45f89"
      },
      "source": [
        "lec_pri= train_bank[train_bank[\"level_of_education_clients\"]== \"Primary\"][\"good_bad_flag\"]\n",
        "print(lec_pri.value_counts(normalize= True)*100)\n",
        "sns.countplot(lec_pri)\n",
        "plt.title(\"Primary with gbf\")"
      ],
      "execution_count": null,
      "outputs": [
        {
          "output_type": "stream",
          "name": "stdout",
          "text": [
            "Good    100.0\n",
            "Name: good_bad_flag, dtype: float64\n"
          ]
        },
        {
          "output_type": "stream",
          "name": "stderr",
          "text": [
            "/usr/local/lib/python3.7/dist-packages/seaborn/_decorators.py:43: FutureWarning: Pass the following variable as a keyword arg: x. From version 0.12, the only valid positional argument will be `data`, and passing other arguments without an explicit keyword will result in an error or misinterpretation.\n",
            "  FutureWarning\n"
          ]
        },
        {
          "output_type": "execute_result",
          "data": {
            "text/plain": [
              "Text(0.5, 1.0, 'Primary with gbf')"
            ]
          },
          "metadata": {},
          "execution_count": 33
        },
        {
          "output_type": "display_data",
          "data": {
            "image/png": "[encoded data removed]",
            "text/plain": [
              "<Figure size 432x288 with 1 Axes>"
            ]
          },
          "metadata": {
            "needs_background": "light"
          }
        }
      ]
    },
    {
      "cell_type": "code",
      "metadata": {
        "colab": {
          "base_uri": "https://localhost:8080/",
          "height": 424
        },
        "id": "p0uvUJgb2QRT",
        "outputId": "e10f4de2-e78e-436b-bb1a-a048826e0691"
      },
      "source": [
        "bct_current= train_bank[train_bank[\"bank_account_type\"]== \"Current\"][\"good_bad_flag\"]\n",
        "print(bct_current.value_counts(normalize= True)*100)\n",
        "sns.countplot(bct_current)\n",
        "plt.title(\"Current with gbf\")"
      ],
      "execution_count": null,
      "outputs": [
        {
          "output_type": "stream",
          "name": "stdout",
          "text": [
            "Good    85.714286\n",
            "Bad     14.285714\n",
            "Name: good_bad_flag, dtype: float64\n"
          ]
        },
        {
          "output_type": "stream",
          "name": "stderr",
          "text": [
            "/usr/local/lib/python3.7/dist-packages/seaborn/_decorators.py:43: FutureWarning: Pass the following variable as a keyword arg: x. From version 0.12, the only valid positional argument will be `data`, and passing other arguments without an explicit keyword will result in an error or misinterpretation.\n",
            "  FutureWarning\n"
          ]
        },
        {
          "output_type": "execute_result",
          "data": {
            "text/plain": [
              "Text(0.5, 1.0, 'Current with gbf')"
            ]
          },
          "metadata": {},
          "execution_count": 34
        },
        {
          "output_type": "display_data",
          "data": {
            "image/png": "[encoded data removed]",
            "text/plain": [
              "<Figure size 432x288 with 1 Axes>"
            ]
          },
          "metadata": {
            "needs_background": "light"
          }
        }
      ]
    },
    {
      "cell_type": "code",
      "metadata": {
        "colab": {
          "base_uri": "https://localhost:8080/",
          "height": 424
        },
        "id": "b9jRpbtR2SxF",
        "outputId": "c00e83a9-ae2e-401e-cacd-a3b1287cb9f7"
      },
      "source": [
        "\n",
        "bct_savings= train_bank[train_bank[\"bank_account_type\"]== \"Savings\"][\"good_bad_flag\"]\n",
        "print(bct_savings.value_counts(normalize= True)*100)\n",
        "sns.countplot(bct_savings)\n",
        "plt.title(\"Savings with gbf\")"
      ],
      "execution_count": null,
      "outputs": [
        {
          "output_type": "stream",
          "name": "stdout",
          "text": [
            "Good    78.014599\n",
            "Bad     21.985401\n",
            "Name: good_bad_flag, dtype: float64\n"
          ]
        },
        {
          "output_type": "stream",
          "name": "stderr",
          "text": [
            "/usr/local/lib/python3.7/dist-packages/seaborn/_decorators.py:43: FutureWarning: Pass the following variable as a keyword arg: x. From version 0.12, the only valid positional argument will be `data`, and passing other arguments without an explicit keyword will result in an error or misinterpretation.\n",
            "  FutureWarning\n"
          ]
        },
        {
          "output_type": "execute_result",
          "data": {
            "text/plain": [
              "Text(0.5, 1.0, 'Savings with gbf')"
            ]
          },
          "metadata": {},
          "execution_count": 35
        },
        {
          "output_type": "display_data",
          "data": {
            "image/png": "[encoded data removed]",
            "text/plain": [
              "<Figure size 432x288 with 1 Axes>"
            ]
          },
          "metadata": {
            "needs_background": "light"
          }
        }
      ]
    },
    {
      "cell_type": "code",
      "metadata": {
        "colab": {
          "base_uri": "https://localhost:8080/",
          "height": 424
        },
        "id": "c-zl9bUB2UoG",
        "outputId": "c582ee2d-46fb-4f09-e225-a94fddf918a0"
      },
      "source": [
        "esc_perm= train_bank[train_bank[\"employment_status_clients\"]== \"Permanent\"][\"good_bad_flag\"]\n",
        "print(esc_perm.value_counts(normalize= True)*100)\n",
        "sns.countplot(esc_perm)\n",
        "plt.title(\"Permanent status with gbf\")"
      ],
      "execution_count": null,
      "outputs": [
        {
          "output_type": "stream",
          "name": "stdout",
          "text": [
            "Good    78.281497\n",
            "Bad     21.718503\n",
            "Name: good_bad_flag, dtype: float64\n"
          ]
        },
        {
          "output_type": "stream",
          "name": "stderr",
          "text": [
            "/usr/local/lib/python3.7/dist-packages/seaborn/_decorators.py:43: FutureWarning: Pass the following variable as a keyword arg: x. From version 0.12, the only valid positional argument will be `data`, and passing other arguments without an explicit keyword will result in an error or misinterpretation.\n",
            "  FutureWarning\n"
          ]
        },
        {
          "output_type": "execute_result",
          "data": {
            "text/plain": [
              "Text(0.5, 1.0, 'Permanent status with gbf')"
            ]
          },
          "metadata": {},
          "execution_count": 36
        },
        {
          "output_type": "display_data",
          "data": {
            "image/png": "[encoded data removed]",
            "text/plain": [
              "<Figure size 432x288 with 1 Axes>"
            ]
          },
          "metadata": {
            "needs_background": "light"
          }
        }
      ]
    },
    {
      "cell_type": "code",
      "metadata": {
        "colab": {
          "base_uri": "https://localhost:8080/",
          "height": 424
        },
        "id": "xDxba4QI2W3M",
        "outputId": "02ae0538-129a-4d35-fc66-b57edcfb5d2e"
      },
      "source": [
        "esc_stud= train_bank[train_bank[\"employment_status_clients\"]== \"Student\"][\"good_bad_flag\"]\n",
        "print(esc_stud.value_counts(normalize= True)*100)\n",
        "sns.countplot(esc_stud)\n",
        "plt.title(\"Student status with gbf\")"
      ],
      "execution_count": null,
      "outputs": [
        {
          "output_type": "stream",
          "name": "stdout",
          "text": [
            "Good    80.28169\n",
            "Bad     19.71831\n",
            "Name: good_bad_flag, dtype: float64\n"
          ]
        },
        {
          "output_type": "stream",
          "name": "stderr",
          "text": [
            "/usr/local/lib/python3.7/dist-packages/seaborn/_decorators.py:43: FutureWarning: Pass the following variable as a keyword arg: x. From version 0.12, the only valid positional argument will be `data`, and passing other arguments without an explicit keyword will result in an error or misinterpretation.\n",
            "  FutureWarning\n"
          ]
        },
        {
          "output_type": "execute_result",
          "data": {
            "text/plain": [
              "Text(0.5, 1.0, 'Student status with gbf')"
            ]
          },
          "metadata": {},
          "execution_count": 37
        },
        {
          "output_type": "display_data",
          "data": {
            "image/png": "[encoded data removed]",
            "text/plain": [
              "<Figure size 432x288 with 1 Axes>"
            ]
          },
          "metadata": {
            "needs_background": "light"
          }
        }
      ]
    },
    {
      "cell_type": "code",
      "metadata": {
        "colab": {
          "base_uri": "https://localhost:8080/",
          "height": 424
        },
        "id": "BAB5t9bk2ZL3",
        "outputId": "4d4d9b21-9582-479d-c93b-39c57541c227"
      },
      "source": [
        "esc_unemployed= train_bank[train_bank[\"employment_status_clients\"]== \"Unemployed\"][\"good_bad_flag\"]\n",
        "print(esc_unemployed.value_counts(normalize= True)*100)\n",
        "sns.countplot(esc_unemployed)\n",
        "plt.title(\"Unemployed status with gbf\")"
      ],
      "execution_count": null,
      "outputs": [
        {
          "output_type": "stream",
          "name": "stdout",
          "text": [
            "Good    73.684211\n",
            "Bad     26.315789\n",
            "Name: good_bad_flag, dtype: float64\n"
          ]
        },
        {
          "output_type": "stream",
          "name": "stderr",
          "text": [
            "/usr/local/lib/python3.7/dist-packages/seaborn/_decorators.py:43: FutureWarning: Pass the following variable as a keyword arg: x. From version 0.12, the only valid positional argument will be `data`, and passing other arguments without an explicit keyword will result in an error or misinterpretation.\n",
            "  FutureWarning\n"
          ]
        },
        {
          "output_type": "execute_result",
          "data": {
            "text/plain": [
              "Text(0.5, 1.0, 'Unemployed status with gbf')"
            ]
          },
          "metadata": {},
          "execution_count": 38
        },
        {
          "output_type": "display_data",
          "data": {
            "image/png": "[encoded data removed]",
            "text/plain": [
              "<Figure size 432x288 with 1 Axes>"
            ]
          },
          "metadata": {
            "needs_background": "light"
          }
        }
      ]
    },
    {
      "cell_type": "code",
      "metadata": {
        "colab": {
          "base_uri": "https://localhost:8080/",
          "height": 424
        },
        "id": "iCR2E9Cn2bCv",
        "outputId": "ec28159f-c962-45a1-f9cc-18f97a856640"
      },
      "source": [
        "esc_self= train_bank[train_bank[\"employment_status_clients\"]== \"Self-Employed\"][\"good_bad_flag\"]\n",
        "print(esc_self.value_counts(normalize= True)*100)\n",
        "sns.countplot(esc_self)\n",
        "plt.title(\"Self Employed with gbf\")"
      ],
      "execution_count": null,
      "outputs": [
        {
          "output_type": "stream",
          "name": "stdout",
          "text": [
            "Good    78.16092\n",
            "Bad     21.83908\n",
            "Name: good_bad_flag, dtype: float64\n"
          ]
        },
        {
          "output_type": "stream",
          "name": "stderr",
          "text": [
            "/usr/local/lib/python3.7/dist-packages/seaborn/_decorators.py:43: FutureWarning: Pass the following variable as a keyword arg: x. From version 0.12, the only valid positional argument will be `data`, and passing other arguments without an explicit keyword will result in an error or misinterpretation.\n",
            "  FutureWarning\n"
          ]
        },
        {
          "output_type": "execute_result",
          "data": {
            "text/plain": [
              "Text(0.5, 1.0, 'Self Employed with gbf')"
            ]
          },
          "metadata": {},
          "execution_count": 39
        },
        {
          "output_type": "display_data",
          "data": {
            "image/png": "[encoded data removed]",
            "text/plain": [
              "<Figure size 432x288 with 1 Axes>"
            ]
          },
          "metadata": {
            "needs_background": "light"
          }
        }
      ]
    },
    {
      "cell_type": "code",
      "metadata": {
        "colab": {
          "base_uri": "https://localhost:8080/",
          "height": 407
        },
        "id": "jBCZJQpc2c75",
        "outputId": "04d7a958-1a16-4cc5-cbde-229dce4fb4db"
      },
      "source": [
        "esc_ret= train_bank[train_bank[\"employment_status_clients\"]== \"Retired\"][\"good_bad_flag\"]\n",
        "print(esc_ret.value_counts(normalize= True)*100)\n",
        "sns.countplot(esc_ret)\n",
        "plt.title(\"Retired\")"
      ],
      "execution_count": null,
      "outputs": [
        {
          "output_type": "stream",
          "name": "stdout",
          "text": [
            "Good    100.0\n",
            "Name: good_bad_flag, dtype: float64\n"
          ]
        },
        {
          "output_type": "stream",
          "name": "stderr",
          "text": [
            "/usr/local/lib/python3.7/dist-packages/seaborn/_decorators.py:43: FutureWarning: Pass the following variable as a keyword arg: x. From version 0.12, the only valid positional argument will be `data`, and passing other arguments without an explicit keyword will result in an error or misinterpretation.\n",
            "  FutureWarning\n"
          ]
        },
        {
          "output_type": "execute_result",
          "data": {
            "text/plain": [
              "Text(0.5, 1.0, 'Retired')"
            ]
          },
          "metadata": {},
          "execution_count": 40
        },
        {
          "output_type": "display_data",
          "data": {
            "image/png": "[encoded data removed]",
            "text/plain": [
              "<Figure size 432x288 with 1 Axes>"
            ]
          },
          "metadata": {
            "needs_background": "light"
          }
        }
      ]
    },
    {
      "cell_type": "code",
      "metadata": {
        "colab": {
          "base_uri": "https://localhost:8080/",
          "height": 407
        },
        "id": "_LQAjkie2fPB",
        "outputId": "f09b3d64-e52f-4909-b6b4-c901b7a37680"
      },
      "source": [
        "esc_contract= train_bank[train_bank[\"employment_status_clients\"]== \"Contract\"][\"good_bad_flag\"]\n",
        "print(esc_contract.value_counts(normalize= True)*100)\n",
        "sns.countplot(esc_contract)\n",
        "plt.title(\"Contract staatus with gbf\")"
      ],
      "execution_count": null,
      "outputs": [
        {
          "output_type": "stream",
          "name": "stdout",
          "text": [
            "Good    100.0\n",
            "Name: good_bad_flag, dtype: float64\n"
          ]
        },
        {
          "output_type": "stream",
          "name": "stderr",
          "text": [
            "/usr/local/lib/python3.7/dist-packages/seaborn/_decorators.py:43: FutureWarning: Pass the following variable as a keyword arg: x. From version 0.12, the only valid positional argument will be `data`, and passing other arguments without an explicit keyword will result in an error or misinterpretation.\n",
            "  FutureWarning\n"
          ]
        },
        {
          "output_type": "execute_result",
          "data": {
            "text/plain": [
              "Text(0.5, 1.0, 'Contract staatus with gbf')"
            ]
          },
          "metadata": {},
          "execution_count": 41
        },
        {
          "output_type": "display_data",
          "data": {
            "image/png": "[encoded data removed]",
            "text/plain": [
              "<Figure size 432x288 with 1 Axes>"
            ]
          },
          "metadata": {
            "needs_background": "light"
          }
        }
      ]
    },
    {
      "cell_type": "markdown",
      "metadata": {
        "id": "vvoFJ9Do2nL_"
      },
      "source": [
        "## Feature Engineering"
      ]
    },
    {
      "cell_type": "code",
      "metadata": {
        "colab": {
          "base_uri": "https://localhost:8080/"
        },
        "id": "VIWGZ-KK2sWO",
        "outputId": "e1b11307-ea22-4655-8da2-85de16cbef8a"
      },
      "source": [
        "##for converting the categorical variables to numerical variables\n",
        "Col= (\"bank_account_type\",\"good_bad_flag\",\"level_of_education_clients\",\"employment_status_clients\")\n",
        "for x in Col:\n",
        "    le= LabelEncoder()\n",
        "    train_bank[x]= le.fit_transform(train_bank[x].values)\n",
        "train_bank.dtypes"
      ],
      "execution_count": null,
      "outputs": [
        {
          "output_type": "execute_result",
          "data": {
            "text/plain": [
              "customerid                     object\n",
              "systemloanid                    int64\n",
              "loannumber                      int64\n",
              "loanamount                      int64\n",
              "totaldue                      float64\n",
              "termdays                        int64\n",
              "good_bad_flag                   int64\n",
              "longitude_gps                 float64\n",
              "latitude_gps                  float64\n",
              "bank_account_type               int64\n",
              "employment_status_clients       int64\n",
              "level_of_education_clients      int64\n",
              "birth                         float64\n",
              "approved                      float64\n",
              "creation                      float64\n",
              "duedate                       float64\n",
              "repaiddate                    float64\n",
              "closed                        float64\n",
              "dtype: object"
            ]
          },
          "metadata": {},
          "execution_count": 42
        }
      ]
    },
    {
      "cell_type": "code",
      "metadata": {
        "colab": {
          "base_uri": "https://localhost:8080/"
        },
        "id": "5itPc82a2vEd",
        "outputId": "64d22368-469f-4e17-a1e2-ebd778749009"
      },
      "source": [
        "cols= (\"bank_account_type\",\"level_of_education_clients\",\"employment_status_clients\")\n",
        "for y in cols:\n",
        "    le= LabelEncoder()\n",
        "    test_bank[y]= le.fit_transform(test_bank[y].values)\n",
        "test_bank.dtypes"
      ],
      "execution_count": null,
      "outputs": [
        {
          "output_type": "execute_result",
          "data": {
            "text/plain": [
              "customerid                     object\n",
              "systemloanid                    int64\n",
              "loannumber                      int64\n",
              "loanamount                      int64\n",
              "totaldue                      float64\n",
              "termdays                        int64\n",
              "longitude_gps                 float64\n",
              "latitude_gps                  float64\n",
              "bank_account_type               int64\n",
              "employment_status_clients       int64\n",
              "level_of_education_clients      int64\n",
              "birth                         float64\n",
              "approved                      float64\n",
              "creation                      float64\n",
              "duedate                       float64\n",
              "repaiddate                    float64\n",
              "closed                        float64\n",
              "dtype: object"
            ]
          },
          "metadata": {},
          "execution_count": 43
        }
      ]
    },
    {
      "cell_type": "code",
      "metadata": {
        "colab": {
          "base_uri": "https://localhost:8080/",
          "height": 164
        },
        "id": "ul91-t_Q2xYf",
        "outputId": "a5c3fbd9-730d-4952-bb16-f4ec794bfa6c"
      },
      "source": [
        "#groupby on the customer id column and then resetting it as the index column\n",
        "train= train_bank.groupby([\"customerid\"]).mean().reset_index()\n",
        "test= test_bank.groupby([\"customerid\"]).mean().reset_index()\n",
        "test.head(3)"
      ],
      "execution_count": null,
      "outputs": [
        {
          "output_type": "execute_result",
          "data": {
            "text/html": [
              "<div>\n",
              "<style scoped>\n",
              "    .dataframe tbody tr th:only-of-type {\n",
              "        vertical-align: middle;\n",
              "    }\n",
              "\n",
              "    .dataframe tbody tr th {\n",
              "        vertical-align: top;\n",
              "    }\n",
              "\n",
              "    .dataframe thead th {\n",
              "        text-align: right;\n",
              "    }\n",
              "</style>\n",
              "<table border=\"1\" class=\"dataframe\">\n",
              "  <thead>\n",
              "    <tr style=\"text-align: right;\">\n",
              "      <th></th>\n",
              "      <th>customerid</th>\n",
              "      <th>systemloanid</th>\n",
              "      <th>loannumber</th>\n",
              "      <th>loanamount</th>\n",
              "      <th>totaldue</th>\n",
              "      <th>termdays</th>\n",
              "      <th>longitude_gps</th>\n",
              "      <th>latitude_gps</th>\n",
              "      <th>bank_account_type</th>\n",
              "      <th>employment_status_clients</th>\n",
              "      <th>level_of_education_clients</th>\n",
              "      <th>birth</th>\n",
              "      <th>approved</th>\n",
              "      <th>creation</th>\n",
              "      <th>duedate</th>\n",
              "      <th>repaiddate</th>\n",
              "      <th>closed</th>\n",
              "    </tr>\n",
              "  </thead>\n",
              "  <tbody>\n",
              "    <tr>\n",
              "      <th>0</th>\n",
              "      <td>8a28afc7474813a40147639ec637156b</td>\n",
              "      <td>301997111</td>\n",
              "      <td>11</td>\n",
              "      <td>25000</td>\n",
              "      <td>27500.0</td>\n",
              "      <td>30</td>\n",
              "      <td>3.308835</td>\n",
              "      <td>6.666647</td>\n",
              "      <td>1</td>\n",
              "      <td>4</td>\n",
              "      <td>0</td>\n",
              "      <td>790819200.0</td>\n",
              "      <td>1.498727e+09</td>\n",
              "      <td>1.498724e+09</td>\n",
              "      <td>1.499990e+09</td>\n",
              "      <td>1.512633e+09</td>\n",
              "      <td>1.512634e+09</td>\n",
              "    </tr>\n",
              "    <tr>\n",
              "      <th>1</th>\n",
              "      <td>8a3735d5518aba7301518ac34413010d</td>\n",
              "      <td>301968180</td>\n",
              "      <td>7</td>\n",
              "      <td>20000</td>\n",
              "      <td>24500.0</td>\n",
              "      <td>30</td>\n",
              "      <td>3.944012</td>\n",
              "      <td>7.420548</td>\n",
              "      <td>1</td>\n",
              "      <td>3</td>\n",
              "      <td>0</td>\n",
              "      <td>495849600.0</td>\n",
              "      <td>1.495873e+09</td>\n",
              "      <td>1.495869e+09</td>\n",
              "      <td>1.512518e+09</td>\n",
              "      <td>1.486398e+09</td>\n",
              "      <td>1.486398e+09</td>\n",
              "    </tr>\n",
              "    <tr>\n",
              "      <th>2</th>\n",
              "      <td>8a76e7d443e6e97c0143ed099d102b1d</td>\n",
              "      <td>302000599</td>\n",
              "      <td>6</td>\n",
              "      <td>20000</td>\n",
              "      <td>24500.0</td>\n",
              "      <td>30</td>\n",
              "      <td>3.367945</td>\n",
              "      <td>6.576676</td>\n",
              "      <td>1</td>\n",
              "      <td>1</td>\n",
              "      <td>0</td>\n",
              "      <td>384912000.0</td>\n",
              "      <td>1.483716e+09</td>\n",
              "      <td>1.483712e+09</td>\n",
              "      <td>1.488845e+09</td>\n",
              "      <td>1.498325e+09</td>\n",
              "      <td>1.498326e+09</td>\n",
              "    </tr>\n",
              "  </tbody>\n",
              "</table>\n",
              "</div>"
            ],
            "text/plain": [
              "                         customerid  systemloanid  ...    repaiddate        closed\n",
              "0  8a28afc7474813a40147639ec637156b     301997111  ...  1.512633e+09  1.512634e+09\n",
              "1  8a3735d5518aba7301518ac34413010d     301968180  ...  1.486398e+09  1.486398e+09\n",
              "2  8a76e7d443e6e97c0143ed099d102b1d     302000599  ...  1.498325e+09  1.498326e+09\n",
              "\n",
              "[3 rows x 17 columns]"
            ]
          },
          "metadata": {},
          "execution_count": 44
        }
      ]
    },
    {
      "cell_type": "code",
      "metadata": {
        "colab": {
          "base_uri": "https://localhost:8080/"
        },
        "id": "Lur2Tm1Y2zUB",
        "outputId": "ed2d3cff-190b-4796-ca38-f90894a2cd48"
      },
      "source": [
        "first_date= train_bank[\"creation\"]\n",
        "second_date= train_bank[\"approved\"]\n",
        "train_bank[\"time_diff\"]= first_date - second_date\n",
        "train_bank[\"time_diff\"].head()"
      ],
      "execution_count": null,
      "outputs": [
        {
          "output_type": "execute_result",
          "data": {
            "text/plain": [
              "0   -3600.0\n",
              "1   -3600.0\n",
              "2   -3600.0\n",
              "3   -3600.0\n",
              "4   -3600.0\n",
              "Name: time_diff, dtype: float64"
            ]
          },
          "metadata": {},
          "execution_count": 45
        }
      ]
    },
    {
      "cell_type": "code",
      "metadata": {
        "colab": {
          "base_uri": "https://localhost:8080/"
        },
        "id": "yzZt7pMR21QL",
        "outputId": "36154529-dd57-4d61-b9ff-a56720eee78d"
      },
      "source": [
        "first_date1= test_bank[\"creation\"]\n",
        "second_date1= test_bank[\"approved\"]\n",
        "test_bank[\"time_diff\"]= first_date1 - second_date1\n",
        "test_bank[\"time_diff\"].head()"
      ],
      "execution_count": null,
      "outputs": [
        {
          "output_type": "execute_result",
          "data": {
            "text/plain": [
              "0   -3600.0\n",
              "1   -3660.0\n",
              "2   -3600.0\n",
              "3   -3600.0\n",
              "4   -3600.0\n",
              "Name: time_diff, dtype: float64"
            ]
          },
          "metadata": {},
          "execution_count": 46
        }
      ]
    },
    {
      "cell_type": "markdown",
      "metadata": {
        "id": "QFXPW4VM27UV"
      },
      "source": [
        "## Modelling and Prediction Making"
      ]
    },
    {
      "cell_type": "code",
      "metadata": {
        "id": "GhOlRtOK25lN"
      },
      "source": [
        "train_new= train.drop(\"customerid\",axis= 1)\n",
        "X= train_new.drop(\"good_bad_flag\", axis= 1)\n",
        "Y= train_new.good_bad_flag\n",
        "train_x, val_x, train_y, val_y= train_test_split(X,Y,test_size= 0.2, random_state= 42)\n"
      ],
      "execution_count": null,
      "outputs": []
    },
    {
      "cell_type": "code",
      "metadata": {
        "colab": {
          "base_uri": "https://localhost:8080/"
        },
        "id": "JHLClCykq0_T",
        "outputId": "49560cca-62bf-4674-d704-eeb62798e7d7"
      },
      "source": [
        "Knn= KNeighborsClassifier(n_neighbors=5, metric='minkowski', p=2 )  \n",
        "Knn.fit(train_x,train_y)  \n",
        "knn= Knn.predict(val_x)\n",
        "print(\"KNN's accuracy score:\",accuracy_score(val_y, knn))"
      ],
      "execution_count": null,
      "outputs": [
        {
          "output_type": "stream",
          "name": "stdout",
          "text": [
            "KNN's accuracy score: 0.7873563218390804\n"
          ]
        }
      ]
    },
    {
      "cell_type": "code",
      "metadata": {
        "id": "z1Y-MY1ilj5f",
        "colab": {
          "base_uri": "https://localhost:8080/"
        },
        "outputId": "c9aee292-ceb2-400d-a326-8fc648c7d6db"
      },
      "source": [
        "SVC = SVC(kernel='rbf', random_state = 1)\n",
        "SVC.fit(train_x,train_y)\n",
        "SVC= SVC.predict(val_x)\n",
        "print(\"SVC's accuracy score:\",accuracy_score(val_y, SVC))"
      ],
      "execution_count": null,
      "outputs": [
        {
          "output_type": "stream",
          "name": "stdout",
          "text": [
            "SVC's accuracy score: 0.8022988505747126\n"
          ]
        }
      ]
    },
    {
      "cell_type": "code",
      "metadata": {
        "colab": {
          "base_uri": "https://localhost:8080/",
          "height": 350
        },
        "id": "z4x_9818gjti",
        "outputId": "0290008a-2d0e-416a-d6a4-4c51ce7cb8dc"
      },
      "source": [
        " ax= plt.subplot()\n",
        "cm= confusion_matrix(val_y,knn)\n",
        "print(cm)\n",
        "sns.heatmap(cm,cmap=\"Greens\", annot= True, ax= ax);\n",
        "\n",
        "plt.figure(figsize=(10,6))\n",
        "ax.set_xlabel(\"predicted\"); \n",
        "ax.set_title(\"KNeighbours classifier\");"
      ],
      "execution_count": null,
      "outputs": [
        {
          "output_type": "stream",
          "name": "stdout",
          "text": [
            "[[ 26 146]\n",
            " [ 39 659]]\n"
          ]
        },
        {
          "output_type": "display_data",
          "data": {
            "image/png": "[encoded data removed]",
            "text/plain": [
              "<Figure size 432x288 with 2 Axes>"
            ]
          },
          "metadata": {
            "needs_background": "light"
          }
        },
        {
          "output_type": "display_data",
          "data": {
            "text/plain": [
              "<Figure size 720x432 with 0 Axes>"
            ]
          },
          "metadata": {}
        }
      ]
    },
    {
      "cell_type": "code",
      "metadata": {
        "colab": {
          "base_uri": "https://localhost:8080/",
          "height": 350
        },
        "id": "Rs3hnEvDPBkY",
        "outputId": "06e56b79-b8df-497c-d360-a00b58bd2b90"
      },
      "source": [
        "ax= plt.subplot()\n",
        "cm= confusion_matrix(val_y,SVC)\n",
        "print(cm)\n",
        "sns.heatmap(cm,cmap=\"Greens\", annot= True, ax= ax);\n",
        "\n",
        "plt.figure(figsize=(10,6))\n",
        "ax.set_xlabel(\"predicted\"); \n",
        "ax.set_title(\"SVC's Confusion Matrix\");"
      ],
      "execution_count": null,
      "outputs": [
        {
          "output_type": "stream",
          "name": "stdout",
          "text": [
            "[[  0 172]\n",
            " [  0 698]]\n"
          ]
        },
        {
          "output_type": "display_data",
          "data": {
            "image/png": "[encoded data removed]",
            "text/plain": [
              "<Figure size 432x288 with 2 Axes>"
            ]
          },
          "metadata": {
            "needs_background": "light"
          }
        },
        {
          "output_type": "display_data",
          "data": {
            "text/plain": [
              "<Figure size 720x432 with 0 Axes>"
            ]
          },
          "metadata": {}
        }
      ]
    }
  ]
}